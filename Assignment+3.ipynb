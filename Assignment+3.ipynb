{
 "cells": [
  {
   "cell_type": "markdown",
   "metadata": {},
   "source": [
    "---\n",
    "\n",
    "_You are currently looking at **version 1.5** of this notebook. To download notebooks and datafiles, as well as get help on Jupyter notebooks in the Coursera platform, visit the [Jupyter Notebook FAQ](https://www.coursera.org/learn/python-data-analysis/resources/0dhYG) course resource._\n",
    "\n",
    "---"
   ]
  },
  {
   "cell_type": "markdown",
   "metadata": {},
   "source": [
    "# Assignment 3 - More Pandas\n",
    "This assignment requires more individual learning then the last one did - you are encouraged to check out the [pandas documentation](http://pandas.pydata.org/pandas-docs/stable/) to find functions or methods you might not have used yet, or ask questions on [Stack Overflow](http://stackoverflow.com/) and tag them as pandas and python related. And of course, the discussion forums are open for interaction with your peers and the course staff."
   ]
  },
  {
   "cell_type": "markdown",
   "metadata": {},
   "source": [
    "### Question 1 (20%)\n",
    "Load the energy data from the file `Energy Indicators.xls`, which is a list of indicators of [energy supply and renewable electricity production](Energy%20Indicators.xls) from the [United Nations](http://unstats.un.org/unsd/environment/excel_file_tables/2013/Energy%20Indicators.xls) for the year 2013, and should be put into a DataFrame with the variable name of **energy**.\n",
    "\n",
    "Keep in mind that this is an Excel file, and not a comma separated values file. Also, make sure to exclude the footer and header information from the datafile. The first two columns are unneccessary, so you should get rid of them, and you should change the column labels so that the columns are:\n",
    "\n",
    "`['Country', 'Energy Supply', 'Energy Supply per Capita', '% Renewable']`\n",
    "\n",
    "Convert `Energy Supply` to gigajoules (there are 1,000,000 gigajoules in a petajoule). For all countries which have missing data (e.g. data with \"...\") make sure this is reflected as `np.NaN` values.\n",
    "\n",
    "Rename the following list of countries (for use in later questions):\n",
    "\n",
    "```\"Republic of Korea\": \"South Korea\",\n",
    "\"United States of America\": \"United States\",\n",
    "\"United Kingdom of Great Britain and Northern Ireland\": \"United Kingdom\",\n",
    "\"China, Hong Kong Special Administrative Region\": \"Hong Kong\"```\n",
    "\n",
    "There are also several countries with numbers and/or parenthesis in their name. Be sure to remove these, \n",
    "\n",
    "e.g. \n",
    "\n",
    "`'Bolivia (Plurinational State of)'` should be `'Bolivia'`, \n",
    "\n",
    "`'Switzerland17'` should be `'Switzerland'`.\n",
    "\n",
    "<br>\n",
    "\n",
    "Next, load the GDP data from the file `world_bank.csv`, which is a csv containing countries' GDP from 1960 to 2015 from [World Bank](http://data.worldbank.org/indicator/NY.GDP.MKTP.CD). Call this DataFrame **GDP**. \n",
    "\n",
    "Make sure to skip the header, and rename the following list of countries:\n",
    "\n",
    "```\"Korea, Rep.\": \"South Korea\", \n",
    "\"Iran, Islamic Rep.\": \"Iran\",\n",
    "\"Hong Kong SAR, China\": \"Hong Kong\"```\n",
    "\n",
    "<br>\n",
    "\n",
    "Finally, load the [Sciamgo Journal and Country Rank data for Energy Engineering and Power Technology](http://www.scimagojr.com/countryrank.php?category=2102) from the file `scimagojr-3.xlsx`, which ranks countries based on their journal contributions in the aforementioned area. Call this DataFrame **ScimEn**.\n",
    "\n",
    "Join the three datasets: GDP, Energy, and ScimEn into a new dataset (using the intersection of country names). Use only the last 10 years (2006-2015) of GDP data and only the top 15 countries by Scimagojr 'Rank' (Rank 1 through 15). \n",
    "\n",
    "The index of this DataFrame should be the name of the country, and the columns should be ['Rank', 'Documents', 'Citable documents', 'Citations', 'Self-citations',\n",
    "       'Citations per document', 'H index', 'Energy Supply',\n",
    "       'Energy Supply per Capita', '% Renewable', '2006', '2007', '2008',\n",
    "       '2009', '2010', '2011', '2012', '2013', '2014', '2015'].\n",
    "       'Rank', 'Documents', 'Citable documents', 'Citations', 'Self-citations',\n",
    "       'Citations per document', 'H index', 'Energy Supply',\n",
    "*This function should return a DataFrame with 20 columns and 15 entries.*"
   ]
  },
  {
   "cell_type": "code",
   "execution_count": 3,
   "metadata": {
    "collapsed": false,
    "scrolled": true
   },
   "outputs": [],
   "source": [
    "import pandas as pd\n",
    "import numpy as np\n",
    "import re\n"
   ]
  },
  {
   "cell_type": "code",
   "execution_count": null,
   "metadata": {
    "collapsed": false
   },
   "outputs": [],
   "source": []
  },
  {
   "cell_type": "code",
   "execution_count": 4,
   "metadata": {
    "collapsed": false
   },
   "outputs": [],
   "source": [
    "\n",
    "\n",
    "Location = \"Energy Indicators.xls\"\n",
    "xfile = pd.ExcelFile(Location)\n",
    "sheets = xfile.sheet_names\n",
    "energy = xfile.parse(sheets[0], skiprows = np.arange(1,18), skip_footer = 38,  \\\n",
    "                     names = ['Country', 'Energy Supply', 'Energy Supply per Capita', '% Renewable'], parse_cols = [2,3,4,5])\n",
    "\n",
    "\n",
    "\n",
    "\n",
    "#print(energy.iloc()[4][\"Energy Supply\"].str.rfind('...'))\n",
    "#print(energy[energy[\"Country\"] == \"Guam\"])\n",
    "\n",
    "Crit1 = energy[\"Energy Supply\"].str.find('..') == 0\n",
    "energy.loc[Crit1,\"Energy Supply\"] = np.NaN\n",
    "energy[\"Energy Supply\"] = energy[\"Energy Supply\"]*1000000.0\n",
    "\n",
    "Crit2 = energy[\"Energy Supply per Capita\"].str.find('..') == 0\n",
    "energy.loc[Crit2,\"Energy Supply per Capita\"] = np.NaN\n",
    "energy[\"Energy Supply per Capita\"] = energy[\"Energy Supply per Capita\"]*1.0\n",
    "\n",
    "energy[\"Country\"] = energy[\"Country\"].str.replace(\" +\\(.*\\)\",\"\") \n",
    "energy[\"Country\"] = energy[\"Country\"].str.replace(\"[0-9]+\",\"\")\n",
    "\n",
    "ch_list = {\"Republic of Korea\": \"South Korea\",\n",
    "\"United States of America\": \"United States\",\n",
    "\"United Kingdom of Great Britain and Northern Ireland\": \"United Kingdom\",\n",
    "\"China, Hong Kong Special Administrative Region\": \"Hong Kong\"}\n",
    "\n",
    "for a in ch_list:\n",
    "    energy.loc[energy[\"Country\"] == a,\"Country\"] = ch_list[a] \n",
    "\n",
    "#energy[energy[\"Country\"] == \"Iran, Islamic Rep.\"] = \"Iran\" \n",
    "\n"
   ]
  },
  {
   "cell_type": "code",
   "execution_count": 5,
   "metadata": {
    "collapsed": false
   },
   "outputs": [],
   "source": [
    "GPD = pd.read_csv(\"world_bank.csv\", header = 4)\n",
    "ch_list = {\"Korea, Rep.\": \"South Korea\", \n",
    "\"Iran, Islamic Rep.\": \"Iran\",\n",
    "\"Hong Kong SAR, China\": \"Hong Kong\"}\n",
    "for a in ch_list:   \n",
    "    GPD.loc[GPD[\"Country Name\"] == a, \"Country Name\"] = ch_list[a]\n"
   ]
  },
  {
   "cell_type": "code",
   "execution_count": 6,
   "metadata": {
    "collapsed": false
   },
   "outputs": [],
   "source": [
    "\n",
    "ScimEn = pd.read_excel(\"scimagojr-3.xlsx\")\n",
    "ScimEn_reduce = ScimEn[ScimEn[\"Rank\"] <= 15]\n"
   ]
  },
  {
   "cell_type": "code",
   "execution_count": 16,
   "metadata": {
    "collapsed": false
   },
   "outputs": [],
   "source": [
    "df = pd.merge(ScimEn_reduce, energy, how = \"inner\",left_on = [\"Country\"], right_on = [\"Country\"] )\n",
    "GPD2 = GPD[[\"Country Name\",\"2006\", '2007', '2008','2009', '2010', '2011', '2012', '2013', '2014', '2015']]\n",
    "df = df.merge(GPD2, how = \"inner\", left_on = [\"Country\"], right_on = [\"Country Name\"])\n",
    "df = df.set_index(\"Country\")\n",
    "\n",
    "del  df[\"Country Name\"]\n",
    "df[\"Energy Supply\"] = pd.to_numeric(df[\"Energy Supply\"])\n",
    "df[\"Energy Supply per Capita\"] = pd.to_numeric(df[\"Energy Supply per Capita\"])\n",
    "#df.shape"
   ]
  },
  {
   "cell_type": "code",
   "execution_count": 17,
   "metadata": {
    "collapsed": false
   },
   "outputs": [],
   "source": [
    "def answer_one():\n",
    "    return df"
   ]
  },
  {
   "cell_type": "code",
   "execution_count": null,
   "metadata": {
    "collapsed": false
   },
   "outputs": [],
   "source": []
  },
  {
   "cell_type": "markdown",
   "metadata": {},
   "source": [
    "### Question 2 (6.6%)\n",
    "The previous question joined three datasets then reduced this to just the top 15 entries. When you joined the datasets, but before you reduced this to the top 15 items, how many entries did you lose?\n",
    "\n",
    "*This function should return a single number.*"
   ]
  },
  {
   "cell_type": "code",
   "execution_count": 18,
   "metadata": {
    "collapsed": false
   },
   "outputs": [
    {
     "data": {
      "text/html": [
       "<svg width=\"800\" height=\"300\">\n",
       "  <circle cx=\"150\" cy=\"180\" r=\"80\" fill-opacity=\"0.2\" stroke=\"black\" stroke-width=\"2\" fill=\"blue\" />\n",
       "  <circle cx=\"200\" cy=\"100\" r=\"80\" fill-opacity=\"0.2\" stroke=\"black\" stroke-width=\"2\" fill=\"red\" />\n",
       "  <circle cx=\"100\" cy=\"100\" r=\"80\" fill-opacity=\"0.2\" stroke=\"black\" stroke-width=\"2\" fill=\"green\" />\n",
       "  <line x1=\"150\" y1=\"125\" x2=\"300\" y2=\"150\" stroke=\"black\" stroke-width=\"2\" fill=\"black\" stroke-dasharray=\"5,3\"/>\n",
       "  <text  x=\"300\" y=\"165\" font-family=\"Verdana\" font-size=\"35\">Everything but this!</text>\n",
       "</svg>"
      ],
      "text/plain": [
       "<IPython.core.display.HTML object>"
      ]
     },
     "metadata": {},
     "output_type": "display_data"
    }
   ],
   "source": [
    "%%HTML\n",
    "<svg width=\"800\" height=\"300\">\n",
    "  <circle cx=\"150\" cy=\"180\" r=\"80\" fill-opacity=\"0.2\" stroke=\"black\" stroke-width=\"2\" fill=\"blue\" />\n",
    "  <circle cx=\"200\" cy=\"100\" r=\"80\" fill-opacity=\"0.2\" stroke=\"black\" stroke-width=\"2\" fill=\"red\" />\n",
    "  <circle cx=\"100\" cy=\"100\" r=\"80\" fill-opacity=\"0.2\" stroke=\"black\" stroke-width=\"2\" fill=\"green\" />\n",
    "  <line x1=\"150\" y1=\"125\" x2=\"300\" y2=\"150\" stroke=\"black\" stroke-width=\"2\" fill=\"black\" stroke-dasharray=\"5,3\"/>\n",
    "  <text  x=\"300\" y=\"165\" font-family=\"Verdana\" font-size=\"35\">Everything but this!</text>\n",
    "</svg>"
   ]
  },
  {
   "cell_type": "code",
   "execution_count": 247,
   "metadata": {
    "collapsed": false
   },
   "outputs": [],
   "source": [
    "def answer_two():\n",
    "    df2 = pd.merge(ScimEn, energy, how = \"inner\",left_on = [\"Country\"], right_on = [\"Country\"] )\n",
    "    df2 = df2.merge(GPD, how = \"inner\", left_on = [\"Country\"], right_on = [\"Country Name\"])\n",
    "    return df2.shape[0]-14 #162\n",
    "answer_two()"
   ]
  },
  {
   "cell_type": "markdown",
   "metadata": {},
   "source": [
    "<br>\n",
    "\n",
    "Answer the following questions in the context of only the top 15 countries by Scimagojr Rank (aka the DataFrame returned by `answer_one()`)"
   ]
  },
  {
   "cell_type": "markdown",
   "metadata": {},
   "source": [
    "### Question 3 (6.6%)\n",
    "What is the average GDP over the last 10 years for each country? (exclude missing values from this calculation.)\n",
    "\n",
    "*This function should return a Series named `avgGDP` with 15 countries and their average GDP sorted in descending order.*"
   ]
  },
  {
   "cell_type": "code",
   "execution_count": 248,
   "metadata": {
    "collapsed": false,
    "scrolled": true
   },
   "outputs": [],
   "source": [
    "def answer_three():\n",
    "    Top15 = answer_one()\n",
    "    Top15 = Top15[[\"2006\", '2007', '2008','2009', '2010', '2011', '2012', '2013', '2014', '2015']]\n",
    "    avgGPD = pd.Series()    \n",
    "    for i in range(0,15):\n",
    "        a = Top15.iloc()[i].dropna() \n",
    "        \n",
    "        avgGPD.loc[a.name] = np.average(a)\n",
    "    return avgGPD.sort_values('index',ascending = False)\n"
   ]
  },
  {
   "cell_type": "markdown",
   "metadata": {},
   "source": [
    "### Question 4 (6.6%)\n",
    "By how much had the GDP changed over the 10 year span for the country with the 6th largest average GDP?\n",
    "\n",
    "*This function should return a single number.*"
   ]
  },
  {
   "cell_type": "code",
   "execution_count": 249,
   "metadata": {
    "collapsed": false,
    "scrolled": true
   },
   "outputs": [],
   "source": [
    "def answer_four():\n",
    "    Top15 = answer_one()\n",
    "    GPD_range = answer_three()\n",
    "    index =GPD_range.index[5]\n",
    "    line = Top15.loc[index]\n",
    "    \n",
    "    return line[\"2015\"] - line[\"2006\"]\n"
   ]
  },
  {
   "cell_type": "markdown",
   "metadata": {},
   "source": [
    "### Question 5 (6.6%)\n",
    "What is the mean `Energy Supply per Capita`?\n",
    "\n",
    "*This function should return a single number.*"
   ]
  },
  {
   "cell_type": "code",
   "execution_count": 250,
   "metadata": {
    "collapsed": false
   },
   "outputs": [],
   "source": [
    "def answer_five():\n",
    "    Top15 = answer_one()\n",
    "    \n",
    "    return Top15[\"Energy Supply per Capita\"].mean()\n"
   ]
  },
  {
   "cell_type": "markdown",
   "metadata": {},
   "source": [
    "### Question 6 (6.6%)\n",
    "What country has the maximum % Renewable and what is the percentage?\n",
    "\n",
    "*This function should return a tuple with the name of the country and the percentage.*"
   ]
  },
  {
   "cell_type": "code",
   "execution_count": 251,
   "metadata": {
    "collapsed": false
   },
   "outputs": [],
   "source": [
    "def answer_six():\n",
    "    Top15 = answer_one()\n",
    "    return (Top15[\"% Renewable\"].idxmax(),Top15[\"% Renewable\"].max())\n"
   ]
  },
  {
   "cell_type": "markdown",
   "metadata": {},
   "source": [
    "### Question 7 (6.6%)\n",
    "Create a new column that is the ratio of Self-Citations to Total Citations. \n",
    "What is the maximum value for this new column, and what country has the highest ratio?\n",
    "\n",
    "*This function should return a tuple with the name of the country and the ratio.*"
   ]
  },
  {
   "cell_type": "code",
   "execution_count": 252,
   "metadata": {
    "collapsed": false
   },
   "outputs": [],
   "source": [
    "def answer_seven():\n",
    "    Top15 = answer_one()\n",
    "  \n",
    "    Top15[\"ratio\"] = Top15[\"Self-citations\"]/Top15[\"Citations\"]\n",
    "    return (Top15[\"ratio\"].idxmax(),Top15[\"ratio\"].max())\n"
   ]
  },
  {
   "cell_type": "markdown",
   "metadata": {},
   "source": [
    "### Question 8 (6.6%)\n",
    "\n",
    "Create a column that estimates the population using Energy Supply and Energy Supply per capita. \n",
    "What is the third most populous country according to this estimate?\n",
    "\n",
    "*This function should return a single string value.*"
   ]
  },
  {
   "cell_type": "code",
   "execution_count": 253,
   "metadata": {
    "collapsed": false
   },
   "outputs": [],
   "source": [
    "def answer_eight():\n",
    "    Top15 = answer_one()   \n",
    "    Top15[\"PopEst\"] = Top15[\"Energy Supply\"]/Top15[\"Energy Supply per Capita\"]\n",
    "   \n",
    "    return Top15[\"PopEst\"].sort_values(ascending = False).index[2]\n"
   ]
  },
  {
   "cell_type": "markdown",
   "metadata": {},
   "source": [
    "### Question 9 (6.6%)\n",
    "Create a column that estimates the number of citable documents per person. \n",
    "What is the correlation between the number of citable documents per capita and the energy supply per capita? Use the `.corr()` method, (Pearson's correlation).\n",
    "\n",
    "*This function should return a single number.*\n",
    "\n",
    "*(Optional: Use the built-in function `plot9()` to visualize the relationship between Energy Supply per Capita vs. Citable docs per Capita)*"
   ]
  },
  {
   "cell_type": "code",
   "execution_count": 254,
   "metadata": {
    "collapsed": false
   },
   "outputs": [],
   "source": [
    "def answer_nine():\n",
    "    Top15 = answer_one()\n",
    "    Top15['PopEst'] = Top15['Energy Supply'] / Top15['Energy Supply per Capita']\n",
    "    Top15['Citable docs per Capita'] = Top15['Citable documents'] / Top15['PopEst']\n",
    "    cor = Top15[[\"Citable docs per Capita\",\"Energy Supply per Capita\"]].corr()\n",
    "    return cor.iloc[0][1]"
   ]
  },
  {
   "cell_type": "code",
   "execution_count": 255,
   "metadata": {
    "collapsed": false
   },
   "outputs": [],
   "source": [
    "def plot9():\n",
    "    import matplotlib as plt\n",
    "    %matplotlib inline\n",
    "    \n",
    "    Top15 = answer_one()\n",
    "    Top15['PopEst'] = Top15['Energy Supply'] / Top15['Energy Supply per Capita']\n",
    "    Top15['Citable docs per Capita'] = Top15['Citable documents'] / Top15['PopEst']\n",
    "    Top15.plot(x='Citable docs per Capita', y='Energy Supply per Capita', kind='scatter', xlim=[0, 0.0006])"
   ]
  },
  {
   "cell_type": "code",
   "execution_count": 256,
   "metadata": {
    "collapsed": false
   },
   "outputs": [],
   "source": [
    "#plot9() # Be sure to comment out plot9() before submitting the assignment!"
   ]
  },
  {
   "cell_type": "markdown",
   "metadata": {},
   "source": [
    "### Question 10 (6.6%)\n",
    "Create a new column with a 1 if the country's % Renewable value is at or above the median for all countries in the top 15, and a 0 if the country's % Renewable value is below the median.\n",
    "\n",
    "*This function should return a series named `HighRenew` whose index is the country name sorted in ascending order of rank.*"
   ]
  },
  {
   "cell_type": "code",
   "execution_count": 257,
   "metadata": {
    "collapsed": false
   },
   "outputs": [],
   "source": [
    "def answer_ten():\n",
    "    Top15 = answer_one()\n",
    "    median = Top15[\"% Renewable\"].median()\n",
    "    Top15[\"HighRenew\"] = 0\n",
    "    Crit = Top15[\"% Renewable\"] >= median\n",
    "    d = Top15[Crit].shape[0]   \n",
    "    Top15.loc[Crit,\"HighRenew\"] = np.ones(d, dtype = \"int\")\n",
    "    Top15[\"Rank\"].sort_values()\n",
    "    \n",
    "    HR = pd.Series(Top15[\"HighRenew\"])\n",
    "   \n",
    "    return  HR\n"
   ]
  },
  {
   "cell_type": "markdown",
   "metadata": {},
   "source": [
    "### Question 11 (6.6%)\n",
    "Use the following dictionary to group the Countries by Continent, then create a dateframe that displays the sample size (the number of countries in each continent bin), and the sum, mean, and std deviation for the estimated population of each country.\n",
    "\n",
    "```python\n",
    "ContinentDict  = {'China':'Asia', \n",
    "                  'United States':'North America', \n",
    "                  'Japan':'Asia', \n",
    "                  'United Kingdom':'Europe', \n",
    "                  'Russian Federation':'Europe', \n",
    "                  'Canada':'North America', \n",
    "                  'Germany':'Europe', \n",
    "                  'India':'Asia',\n",
    "                  'France':'Europe', \n",
    "                  'South Korea':'Asia', \n",
    "                  'Italy':'Europe', \n",
    "                  'Spain':'Europe', \n",
    "                  'Iran':'Asia',\n",
    "                  'Australia':'Australia', \n",
    "                  'Brazil':'South America'}\n",
    "```\n",
    "\n",
    "*This function should return a DataFrame with index named Continent `['Asia', 'Australia', 'Europe', 'North America', 'South America']` and columns `['size', 'sum', 'mean', 'std']`*"
   ]
  },
  {
   "cell_type": "code",
   "execution_count": 21,
   "metadata": {
    "collapsed": false
   },
   "outputs": [],
   "source": [
    "def answer_eleven():\n",
    "    Top15 = answer_one()\n",
    "    ContinentDict  = {'China':'Asia', \n",
    "                  'United States':'North America', \n",
    "                  'Japan':'Asia', \n",
    "                  'United Kingdom':'Europe', \n",
    "                  'Russian Federation':'Europe', \n",
    "                  'Canada':'North America', \n",
    "                  'Germany':'Europe', \n",
    "                  'India':'Asia',\n",
    "                  'France':'Europe', \n",
    "                  'South Korea':'Asia', \n",
    "                  'Italy':'Europe', \n",
    "                  'Spain':'Europe', \n",
    "                  'Iran':'Asia',\n",
    "                  'Australia':'Australia', \n",
    "                  'Brazil':'South America'}\n",
    "  \n",
    "    Top15[\"PopEst\"] = Top15[\"Energy Supply\"]/Top15[\"Energy Supply per Capita\"]\n",
    "    \n",
    "    byconts = Top15[\"PopEst\"].groupby(by = ContinentDict)\n",
    "  \n",
    "  \n",
    "    s1 = byconts.size()\n",
    "    s2 = byconts.sum()\n",
    "    s3 = byconts.mean()\n",
    "    s4 = byconts.std()\n",
    "   \n",
    "   \n",
    "    \n",
    "    DR = pd.DataFrame({\"size\":s1, \"sum\":s2, \"mean\":s3,\"std\":s4})\n",
    "    del Top15[\"PopEst\"]\n",
    "    return DR\n"
   ]
  },
  {
   "cell_type": "markdown",
   "metadata": {},
   "source": [
    "### Question 12 (6.6%)\n",
    "Cut % Renewable into 5 bins. Group Top15 by the Continent, as well as these new % Renewable bins. How many countries are in each of these groups?\n",
    "\n",
    "*This function should return a __Series__ with a MultiIndex of `Continent`, then the bins for `% Renewable`. Do not include groups with no countries.*"
   ]
  },
  {
   "cell_type": "code",
   "execution_count": 30,
   "metadata": {
    "collapsed": false,
    "scrolled": true
   },
   "outputs": [],
   "source": [
    "def answer_twelve():\n",
    "    Top15 = answer_one()\n",
    "    ContinentDict  = {'China':'Asia', \n",
    "                  'United States':'North America', \n",
    "                  'Japan':'Asia', \n",
    "                  'United Kingdom':'Europe', \n",
    "                  'Russian Federation':'Europe', \n",
    "                  'Canada':'North America', \n",
    "                  'Germany':'Europe', \n",
    "                  'India':'Asia',\n",
    "                  'France':'Europe', \n",
    "                  'South Korea':'Asia', \n",
    "                  'Italy':'Europe', \n",
    "                  'Spain':'Europe', \n",
    "                  'Iran':'Asia',\n",
    "                  'Australia':'Australia', \n",
    "                  'Brazil':'South America'}\n",
    "    Top15[\"Continents\"] = pd.Series(ContinentDict)\n",
    "    Top15[\"bins\"] = pd.cut(Top15[\"% Renewable\"],5)\n",
    "    group = Top15.groupby([\"Continents\",\"bins\"])\n",
    "   \n",
    "    return group.size()\n",
    "\n"
   ]
  },
  {
   "cell_type": "markdown",
   "metadata": {},
   "source": [
    "### Question 13 (6.6%)\n",
    "Convert the Population Estimate series to a string with thousands separator (using commas). Do not round the results.\n",
    "\n",
    "e.g. 317615384.61538464 -> 317,615,384.61538464\n",
    "\n",
    "*This function should return a Series `PopEst` whose index is the country name and whose values are the population estimate string.*"
   ]
  },
  {
   "cell_type": "code",
   "execution_count": 53,
   "metadata": {
    "collapsed": false,
    "scrolled": true
   },
   "outputs": [],
   "source": [
    "def answer_thirteen():\n",
    "    Top15 = answer_one()\n",
    "    Top15[\"PopEst\"] = (Top15[\"Energy Supply\"]/Top15[\"Energy Supply per Capita\"])\n",
    "    Top15[\"PopEst\"] = Top15[\"PopEst\"].map('{0:,f}'.format)\n",
    "    return Top15[\"PopEst\"]\n"
   ]
  },
  {
   "cell_type": "markdown",
   "metadata": {},
   "source": [
    "### Optional\n",
    "\n",
    "Use the built in function `plot_optional()` to see an example visualization."
   ]
  },
  {
   "cell_type": "code",
   "execution_count": 40,
   "metadata": {
    "collapsed": false,
    "scrolled": true
   },
   "outputs": [],
   "source": [
    "def plot_optional():\n",
    "    import matplotlib as plt\n",
    "    %matplotlib inline\n",
    "    Top15 = answer_one()\n",
    "    ax = Top15.plot(x='Rank', y='% Renewable', kind='scatter', \n",
    "                    c=['#e41a1c','#377eb8','#e41a1c','#4daf4a','#4daf4a','#377eb8','#4daf4a','#e41a1c',\n",
    "                       '#4daf4a','#e41a1c','#4daf4a','#4daf4a','#e41a1c','#dede00','#ff7f00'], \n",
    "                    xticks=range(1,16), s=6*Top15['2014']/10**10, alpha=.75, figsize=[16,6]);\n",
    "\n",
    "    for i, txt in enumerate(Top15.index):\n",
    "        ax.annotate(txt, [Top15['Rank'][i], Top15['% Renewable'][i]], ha='center')\n",
    "\n",
    "    print(\"This is an example of a visualization that can be created to help understand the data. \\\n",
    "This is a bubble chart showing % Renewable vs. Rank. The size of the bubble corresponds to the countries' \\\n",
    "2014 GDP, and the color corresponds to the continent.\")"
   ]
  },
  {
   "cell_type": "code",
   "execution_count": 42,
   "metadata": {
    "collapsed": false
   },
   "outputs": [],
   "source": [
    "#plot_optional() # Be sure to comment out plot_optional() before submitting the assignment!"
   ]
  },
  {
   "cell_type": "code",
   "execution_count": 59,
   "metadata": {
    "collapsed": false
   },
   "outputs": [
    {
     "name": "stdout",
     "output_type": "stream",
     "text": [
      "[10 11  9 10  9 15  9 10 10 14  7  8  8  7 13 11  8 12  9  9  9  7 10 10  9\n",
      "  8  5 11 15 10 10  9 13 12  6 10 10 13  8  9 10 13 10 10 16  7 11 12 11 11\n",
      "  9 12  9  9 14 10 12  7  7 11 11 11 11 12  8  7 10 12 12 14  9 12 12 11 10\n",
      "  9 11 10  9 10 10  9  8 10  8  9 11 11 13  7 10  9  9 13 10  7  9 12  9  9\n",
      "  6 11  9 10 14 11  9 15 12  8 11 10 12  9  4  9 11 10 10  8  9 10 12 11 12\n",
      " 12 12  6 11 14 11 11  9 11 13 11 12 10  7 10  7 14 15 10  7 13  8  8 12  7\n",
      " 10  8 15  9  8  9  9  7  9  8 11 11 13  6  9 13 10 11  9  7 10  5 10 12  9\n",
      "  9 10  5 11 12 11 11 13 14  9  6 14  8  5 11 11 13 12 13 11 12 12 10  7 11\n",
      "  7  8 13 13 14 12 14 13  7  7  8  8 10 11  5 11 11 11 11 12 11 12 11 11  7\n",
      " 10 11  5 11 10 15 12  9 11  9 10  7 11  7  8 11  9  9 12 10 12 13  8 11 10\n",
      " 13 11 10  7  8 11 13 11  5  9  9 10  8 11 10 14 13 10  8 12  9 10 11  6  9\n",
      " 10 12 13 15  8 12 10  9  9 13  8  8 11  8  9 11 11  8 11 10 10 10 11  6 12\n",
      "  9 10 10  8 10  9 11  7  9 11  8 10  9 11 10  8  8  9 10 13 11 12  7  8 10\n",
      " 11  5 11  7  8 11  8  6 12 11 13 12  6 11  7  9  9 13 14  7 10 10 13 11 11\n",
      " 10  9 10  9 15  6  9 10  9  7 10  9  5  7 11 10 14  5 11 10  9  9  6 10  7\n",
      " 11  9 12 11  8 12  8 12  8 12  9 11 13  9 10 12 11 14  8  9 10  7 11  9 12\n",
      " 10  6 13 10 13 10  6  9  9 10 11 10 10 13  7 10  8  9 11 15 12 13  8  6 10\n",
      "  8 10  6 13 13  9  7  7 11  9  8  9 12  9 12 12 12 12  5  7 11  8 10  9 10\n",
      " 13 13 10  8 12  9 10  9  9  5 10 11 13  9  9 10  7 10 12 11 10  8  7  9 10\n",
      "  7 12 13  9 11  9  6 12 12 16  6  8  7 13 11 12 11 11 12  8 12 11  9 12 10\n",
      " 13  9  8 10  8  9  9 10 11 10  6 11  9  9 11 10 10  9  9  6 11  9 10  9 10\n",
      "  9 12 14 12 14 12  8 14  9 16 14 10 12  9 10 11 11 10  7 13 15  9 10  5  9\n",
      " 17 16 12 12  8  9  8  7 11 11  8 10  8 15  7 11  8 11 15  7  7  7 11 11 14\n",
      " 13 10 13 10 13  8 16  8  9 12  9  9  5 13 12  9 10 10  9  7 10  4  8 15 15\n",
      " 11 12 10 11  8 11  6 10 11  7 10 11 13  8  8  5 13 10 11  7 12  9 11 13  7\n",
      " 12 10  9  9 10 10  9  8  9 11  8  8 12  6 11 13  8 12 12 11  6 10  8  7 11\n",
      " 13 12 11  7 10 13  8 10  8  6  9  9  9 11 11  9  8 12 11 11  9  8 11  6  9\n",
      " 13  7 11 16  9 10 10  9  5 10 11  3  5 14 15  9 13  8  6  8  8 14  7 10 10\n",
      "  9 11  7  9 13 10 11  7 15  9  6 10 13 12 11  9  8  7  6 13  9  8 11 11 10\n",
      " 13 12  8 11 13 10 11  8 10 13  8  7 11 11 13 12 11  8 12 11  8 14 11  8 13\n",
      " 10  7 10 14  6  6  9 10  9 15  7 16 10  8 11  6  6 11 11 11 13  8  5 11  8\n",
      " 14 14  9 10 10 12  8 12 12 13  7 12 13 12 13 11 12 10 14 12 12 12 11 14  8\n",
      " 11  9 17  9  6  6 11 10  9 10 15 10 12  8  9 13 14 12  9  6  7  9 11  9  7\n",
      "  7 12  8  6  9 12 12 11 11  7 14  9  8  8  9  9 10  9  8 13 10  9  9  9 14\n",
      " 10 14 13  6 12 11 13 11  9 13 11 14  8  9  9 12 10 10  7  5 14 11 11 10 11\n",
      " 10 11  8  9 12 13 11 10 14 12  9 12  9  9  9 13 10  7 10  9  5  6 12  6  8\n",
      " 12 11  9  6  9 12 12 12 11 11  9  7  9  9  5  7  4  8 11 11  9 11  9 12 12\n",
      " 10  8  5 13 11 12  9 13 12 11  6  8  9 10  9 11 11  6 12 13  7  9  4 12 12\n",
      " 10  8 11  7 11 10 10 14  9 11  7 11 12  8 10  8 12 10 11 14 13 10  9 10 13\n",
      " 13  8  8  7  9 11  8 13 11  9  9  7  5 10 11 10 12 10  7  8 13  9 14 15  9]\n"
     ]
    }
   ],
   "source": [
    "x = np.random.binomial(20,0.5,1000)\n",
    "print(x)"
   ]
  },
  {
   "cell_type": "code",
   "execution_count": 61,
   "metadata": {
    "collapsed": false
   },
   "outputs": [
    {
     "name": "stdout",
     "output_type": "stream",
     "text": [
      "0.028\n"
     ]
    }
   ],
   "source": [
    "print((x>=15).mean())"
   ]
  },
  {
   "cell_type": "code",
   "execution_count": null,
   "metadata": {
    "collapsed": true
   },
   "outputs": [],
   "source": []
  }
 ],
 "metadata": {
  "anaconda-cloud": {},
  "coursera": {
   "course_slug": "python-data-analysis",
   "graded_item_id": "zAr06",
   "launcher_item_id": "KSSjT",
   "part_id": "SL3fU"
  },
  "kernelspec": {
   "display_name": "Python 3",
   "language": "python",
   "name": "python3"
  },
  "language_info": {
   "codemirror_mode": {
    "name": "ipython",
    "version": 3
   },
   "file_extension": ".py",
   "mimetype": "text/x-python",
   "name": "python",
   "nbconvert_exporter": "python",
   "pygments_lexer": "ipython3",
   "version": "3.5.2"
  }
 },
 "nbformat": 4,
 "nbformat_minor": 0
}
