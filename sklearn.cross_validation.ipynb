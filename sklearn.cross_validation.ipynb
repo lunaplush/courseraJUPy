{
 "cells": [
  {
   "cell_type": "markdown",
   "metadata": {},
   "source": [
    "# Sklearn"
   ]
  },
  {
   "cell_type": "markdown",
   "metadata": {},
   "source": [
    "## sklearn.cross_validation"
   ]
  },
  {
   "cell_type": "markdown",
   "metadata": {},
   "source": [
    "документация: http://scikit-learn.org/stable/modules/cross_validation.html"
   ]
  },
  {
   "cell_type": "code",
   "execution_count": 41,
   "metadata": {
    "collapsed": true
   },
   "outputs": [],
   "source": [
    "from sklearn import cross_validation, datasets\n",
    "\n",
    "import numpy as np"
   ]
  },
  {
   "cell_type": "markdown",
   "metadata": {},
   "source": [
    "### Разовое разбиение данных на обучение и тест с помощью train_test_split"
   ]
  },
  {
   "cell_type": "code",
   "execution_count": 42,
   "metadata": {
    "collapsed": false
   },
   "outputs": [],
   "source": [
    "iris = datasets.load_iris()"
   ]
  },
  {
   "cell_type": "code",
   "execution_count": 43,
   "metadata": {
    "collapsed": false
   },
   "outputs": [],
   "source": [
    "train_data, test_data, train_labels, test_labels = cross_validation.train_test_split(iris.data, iris.target, \n",
    "                                                                                     test_size = 0.3)"
   ]
  },
  {
   "cell_type": "code",
   "execution_count": 44,
   "metadata": {
    "collapsed": false
   },
   "outputs": [
    {
     "data": {
      "text/plain": [
       "0.3"
      ]
     },
     "execution_count": 44,
     "metadata": {},
     "output_type": "execute_result"
    }
   ],
   "source": [
    "#убедимся, что тестовая выборка действительно составляет 0.3 от всех данных\n",
    "float(len(test_labels))/len(iris.data)"
   ]
  },
  {
   "cell_type": "code",
   "execution_count": 45,
   "metadata": {
    "collapsed": false
   },
   "outputs": [
    {
     "name": "stdout",
     "output_type": "stream",
     "text": [
      "Размер обучающей выборки: 105 объектов \n",
      "Размер тестовой выборки: 45 объектов\n"
     ]
    }
   ],
   "source": [
    "print ('Размер обучающей выборки: {} объектов \\nРазмер тестовой выборки: {} объектов'.format(len(train_data),\n",
    "                                                                                            len(test_data)))"
   ]
  },
  {
   "cell_type": "code",
   "execution_count": 46,
   "metadata": {
    "collapsed": false
   },
   "outputs": [
    {
     "ename": "SyntaxError",
     "evalue": "Missing parentheses in call to 'print' (<ipython-input-46-366f8cb9ba1c>, line 1)",
     "output_type": "error",
     "traceback": [
      "\u001b[1;36m  File \u001b[1;32m\"<ipython-input-46-366f8cb9ba1c>\"\u001b[1;36m, line \u001b[1;32m1\u001b[0m\n\u001b[1;33m    print 'Обучающая выборка:\\n', train_data[:5]\u001b[0m\n\u001b[1;37m                               ^\u001b[0m\n\u001b[1;31mSyntaxError\u001b[0m\u001b[1;31m:\u001b[0m Missing parentheses in call to 'print'\n"
     ]
    }
   ],
   "source": [
    "print 'Обучающая выборка:\\n', train_data[:5]\n",
    "print '\\n'\n",
    "print 'Тестовая выборка:\\n', test_data[:5]"
   ]
  },
  {
   "cell_type": "code",
   "execution_count": 47,
   "metadata": {
    "collapsed": false
   },
   "outputs": [
    {
     "ename": "SyntaxError",
     "evalue": "Missing parentheses in call to 'print' (<ipython-input-47-58915b12905a>, line 1)",
     "output_type": "error",
     "traceback": [
      "\u001b[1;36m  File \u001b[1;32m\"<ipython-input-47-58915b12905a>\"\u001b[1;36m, line \u001b[1;32m1\u001b[0m\n\u001b[1;33m    print 'Метки классов на обучающей выборке:\\n', train_labels\u001b[0m\n\u001b[1;37m                                                ^\u001b[0m\n\u001b[1;31mSyntaxError\u001b[0m\u001b[1;31m:\u001b[0m Missing parentheses in call to 'print'\n"
     ]
    }
   ],
   "source": [
    "print 'Метки классов на обучающей выборке:\\n', train_labels\n",
    "print '\\n'\n",
    "print 'Метки классов на тестовой выборке:\\n', test_labels"
   ]
  },
  {
   "cell_type": "markdown",
   "metadata": {},
   "source": [
    "### Стратегии проведения кросс-валидации"
   ]
  },
  {
   "cell_type": "markdown",
   "metadata": {},
   "source": [
    "#### KFold"
   ]
  },
  {
   "cell_type": "code",
   "execution_count": 53,
   "metadata": {
    "collapsed": false
   },
   "outputs": [
    {
     "name": "stdout",
     "output_type": "stream",
     "text": [
      "[ 4  5  6  7  8  9 10 11 12 13 14 15 16 17 18 19] [0 1 2 3]\n",
      "[ 0  1  2  3  8  9 10 11 12 13 14 15 16 17 18 19] [4 5 6 7]\n",
      "[ 0  1  2  3  4  5  6  7 12 13 14 15 16 17 18 19] [ 8  9 10 11]\n",
      "[ 0  1  2  3  4  5  6  7  8  9 10 11 16 17 18 19] [12 13 14 15]\n",
      "[ 0  1  2  3  4  5  6  7  8  9 10 11 12 13 14 15] [16 17 18 19]\n"
     ]
    }
   ],
   "source": [
    "for train_indices, test_indices in cross_validation.KFold(20, n_folds = 5, random_state = 10):\n",
    "    print (train_indices, test_indices)"
   ]
  },
  {
   "cell_type": "code",
   "execution_count": 49,
   "metadata": {
    "collapsed": false
   },
   "outputs": [
    {
     "name": "stdout",
     "output_type": "stream",
     "text": [
      "[ 0  1  2  3  4  8  9 11 12 13 14 15 16 17 18 19] [ 5  6  7 10]\n",
      "[ 0  1  4  5  6  7  8  9 10 11 12 14 15 16 17 19] [ 2  3 13 18]\n",
      "[ 0  1  2  3  4  5  6  7  9 10 11 12 13 15 18 19] [ 8 14 16 17]\n",
      "[ 0  2  3  4  5  6  7  8  9 10 13 14 15 16 17 18] [ 1 11 12 19]\n",
      "[ 1  2  3  5  6  7  8 10 11 12 13 14 16 17 18 19] [ 0  4  9 15]\n"
     ]
    }
   ],
   "source": [
    "for train_indices, test_indices in cross_validation.KFold(20, n_folds = 5, shuffle = True,random_state = 10):\n",
    "    print (train_indices, test_indices)"
   ]
  },
  {
   "cell_type": "code",
   "execution_count": 50,
   "metadata": {
    "collapsed": false
   },
   "outputs": [
    {
     "ename": "SyntaxError",
     "evalue": "Missing parentheses in call to 'print' (<ipython-input-50-ad6e1599a758>, line 2)",
     "output_type": "error",
     "traceback": [
      "\u001b[1;36m  File \u001b[1;32m\"<ipython-input-50-ad6e1599a758>\"\u001b[1;36m, line \u001b[1;32m2\u001b[0m\n\u001b[1;33m    print train_indices, test_indices\u001b[0m\n\u001b[1;37m                      ^\u001b[0m\n\u001b[1;31mSyntaxError\u001b[0m\u001b[1;31m:\u001b[0m Missing parentheses in call to 'print'\n"
     ]
    }
   ],
   "source": [
    "for train_indices, test_indices in cross_validation.KFold(10, n_folds = 2, shuffle = True, random_state = 1):\n",
    "    print train_indices, test_indices"
   ]
  },
  {
   "cell_type": "markdown",
   "metadata": {},
   "source": [
    "#### StratifiedKFold"
   ]
  },
  {
   "cell_type": "code",
   "execution_count": 51,
   "metadata": {
    "collapsed": false
   },
   "outputs": [
    {
     "name": "stdout",
     "output_type": "stream",
     "text": [
      "[0 0 0 0 0 1 1 1 1 1]\n",
      "[0 1 3 4 5 6 7 8] [2 9]\n",
      "[0 1 2 3 5 7 8 9] [4 6]\n",
      "[0 2 3 4 6 7 8 9] [1 5]\n",
      "[0 1 2 4 5 6 8 9] [3 7]\n",
      "[1 2 3 4 5 6 7 9] [0 8]\n"
     ]
    }
   ],
   "source": [
    "target = np.array([0] * 5 + [1] * 5)\n",
    "print (target)\n",
    "for train_indices, test_indices in cross_validation.StratifiedKFold(target, n_folds = 5, shuffle = True, random_state = 2):\n",
    "    print (train_indices, test_indices)"
   ]
  },
  {
   "cell_type": "code",
   "execution_count": 52,
   "metadata": {
    "collapsed": false
   },
   "outputs": [
    {
     "name": "stdout",
     "output_type": "stream",
     "text": [
      "[0 1 0 1 0 1 0 1 0 1]\n",
      "[0 1 3 8] [2 4 5 6 7 9]\n",
      "[2 4 5 6 7 9] [0 1 3 8]\n"
     ]
    }
   ],
   "source": [
    "target = np.array([0, 1] * 5)\n",
    "print (target)\n",
    "for train_indices, test_indices in cross_validation.StratifiedKFold(target, n_folds = 2,shuffle = True):\n",
    "    print (train_indices, test_indices)"
   ]
  },
  {
   "cell_type": "markdown",
   "metadata": {},
   "source": [
    "#### ShuffleSplit"
   ]
  },
  {
   "cell_type": "code",
   "execution_count": 55,
   "metadata": {
    "collapsed": false
   },
   "outputs": [
    {
     "name": "stdout",
     "output_type": "stream",
     "text": [
      "[ 5 11 17  1 47 30 36 10 49 19  0 25 39 26 16 38 29 41 13 46  7 24 12 15 27\n",
      " 37 23  9 34 40 14  2 18 33 21  6 32 45 31 48] [20  4  3 28 22 43 44 42 35  8]\n",
      "[ 1 47 11 28 40 18 24 29 12 16 39 46 34 30  2 32 13 44 48 33  6 42 22 38  3\n",
      " 21 25 27 19  7  4 26 23 36  5 17 14 43 31  0] [45 41  9 15 37 20 10 35  8 49]\n",
      "[28  9 22 17 43 26  6 24 11 44  1  0 35 30 37  5 49 18 21  2 15  7 13 42 16\n",
      " 12  3  4 29 36 10 45 32 47 31 34 23 25 38 39] [27 33  8 19 41 40 48 14 20 46]\n",
      "[42 44  5  9 18 26 28 22 21 39 11 49 16 36 20 33 35 37 43  1 24 30 13 34 38\n",
      " 17  0 23  8 46  3 47 40 32  4 27 29 45  7  6] [10 41  2 12 19 14 48 15 25 31]\n",
      "[13 26 12 30 41  2 40  0 14  4 49 32 15 25 35 36 19 47 23 31 18 39  3 16 38\n",
      " 21 11 43 44 46  9 37 27  6 34 29 33 28 22 20] [48 24 17 45  8 42  1  7  5 10]\n",
      "[ 9 20 46 18 47 28 33  0  1 17  3 37 32 11 35 41 24 44 12  4 42 39 38 25 49\n",
      " 31  7 19 29 36 22 30 14 23 40 26  2 43 16 10] [21 27 48 15 13  5  6 45  8 34]\n",
      "[47 22 44 39  4 49 37 36 41 21  9  5 19 38 25 24 18  3 29 30 45 31 46 11 20\n",
      " 13 42 35 32 40  0 23  8 10  1 17 26 48 43  7] [ 2 27 12 28 14 16 15  6 33 34]\n",
      "[29 23  8  1 34 39 41 36 10 45 35  2 33  0 49 38 22 13 16  6 40 20 11  3 31\n",
      " 19 24 43 28  5 30  7 32 27 26 25 14  9 44 21] [12 42 37 18 15 48 17 46 47  4]\n",
      "[ 0  8 26 16 33 12 47 32 37 28 35 13 23 31 29 18 44  2 34 11  7 42 36  5 49\n",
      " 30 43 25 19 17 46  4  6 45 40 41 48  9 20 27] [39 15  3 24 10 22 21  1 38 14]\n",
      "[40 17 13 34 23 42 37 24 14  7 31  1 41 46 12 29 28 47 36 27 16 18 33 10  4\n",
      " 49 26 35  3 45 22  0 15 25 20 30 11 21 48 32] [ 6 19 44 38  2  8 39  9 43  5]\n"
     ]
    }
   ],
   "source": [
    "\n",
    "for train_indices, test_indices in cross_validation.ShuffleSplit(50, n_iter = 10, test_size = 10):\n",
    "    print (train_indices, test_indices)"
   ]
  },
  {
   "cell_type": "markdown",
   "metadata": {},
   "source": [
    "#### StratifiedShuffleSplit"
   ]
  },
  {
   "cell_type": "code",
   "execution_count": 38,
   "metadata": {
    "collapsed": false
   },
   "outputs": [
    {
     "name": "stdout",
     "output_type": "stream",
     "text": [
      "[0 0 0 0 0 1 1 1 1 1]\n",
      "[9 8 0 6 7 3 1 4] [2 5]\n",
      "[5 0 6 3 9 4 2 8] [7 1]\n",
      "[9 4 6 1 3 5 8 0] [2 7]\n",
      "[7 3 9 4 5 8 0 2] [6 1]\n"
     ]
    }
   ],
   "source": [
    "target = np.array([0] * 5 + [1] * 5)\n",
    "print (target)\n",
    "for train_indices, test_indices in cross_validation.StratifiedShuffleSplit(target, n_iter = 4, test_size = 0.2):\n",
    "    print (train_indices, test_indices)"
   ]
  },
  {
   "cell_type": "markdown",
   "metadata": {},
   "source": [
    "#### Leave-One-Out"
   ]
  },
  {
   "cell_type": "code",
   "execution_count": 40,
   "metadata": {
    "collapsed": false
   },
   "outputs": [
    {
     "name": "stdout",
     "output_type": "stream",
     "text": [
      "[1 2 3 4 5 6 7 8 9] [0]\n",
      "[0 2 3 4 5 6 7 8 9] [1]\n",
      "[0 1 3 4 5 6 7 8 9] [2]\n",
      "[0 1 2 4 5 6 7 8 9] [3]\n",
      "[0 1 2 3 5 6 7 8 9] [4]\n",
      "[0 1 2 3 4 6 7 8 9] [5]\n",
      "[0 1 2 3 4 5 7 8 9] [6]\n",
      "[0 1 2 3 4 5 6 8 9] [7]\n",
      "[0 1 2 3 4 5 6 7 9] [8]\n",
      "[0 1 2 3 4 5 6 7 8] [9]\n"
     ]
    }
   ],
   "source": [
    "for train_indices, test_index in cross_validation.LeaveOneOut(10):\n",
    "    print (train_indices, test_index)"
   ]
  },
  {
   "cell_type": "markdown",
   "metadata": {},
   "source": [
    "Больше стратегий проведения кросс-валидации доступно здесь: http://scikit-learn.org/stable/modules/cross_validation.html#cross-validation-iterators"
   ]
  }
 ],
 "metadata": {
  "kernelspec": {
   "display_name": "Python 3",
   "language": "python",
   "name": "python3"
  },
  "language_info": {
   "codemirror_mode": {
    "name": "ipython",
    "version": 3
   },
   "file_extension": ".py",
   "mimetype": "text/x-python",
   "name": "python",
   "nbconvert_exporter": "python",
   "pygments_lexer": "ipython3",
   "version": "3.5.2"
  }
 },
 "nbformat": 4,
 "nbformat_minor": 0
}
